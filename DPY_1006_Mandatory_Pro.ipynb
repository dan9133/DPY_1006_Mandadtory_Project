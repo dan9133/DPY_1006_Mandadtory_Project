{
  "nbformat": 4,
  "nbformat_minor": 0,
  "metadata": {
    "colab": {
      "provenance": [],
      "authorship_tag": "ABX9TyPp4aaRIVLVv+A0q7Q2pYQH",
      "include_colab_link": true
    },
    "kernelspec": {
      "name": "python3",
      "display_name": "Python 3"
    },
    "language_info": {
      "name": "python"
    }
  },
  "cells": [
    {
      "cell_type": "markdown",
      "metadata": {
        "id": "view-in-github",
        "colab_type": "text"
      },
      "source": [
        "<a href=\"https://colab.research.google.com/github/dan9133/DPY_1006_Mandadtory_Project/blob/main/DPY_1006_Mandatory_Pro.ipynb\" target=\"_parent\"><img src=\"https://colab.research.google.com/assets/colab-badge.svg\" alt=\"Open In Colab\"/></a>"
      ]
    },
    {
      "cell_type": "markdown",
      "source": [
        "**\"\"\"You are working in a bank and you have been given two lists of the employees who worked in 2021. Employee’s name in list 1\n",
        "are Ramesh, Suresh, Mahesh, Ali, Jacob and Saritha. List 2 contains the names of Ali, Mukesh, Mahesh, Jacob, Sai, Sarita.\n",
        " Please write a program which helps to identify people who are common in both lists. Please do not use any in-built function.\"\"\"**"
      ],
      "metadata": {
        "id": "03jA0rQV0lE7"
      }
    },
    {
      "cell_type": "code",
      "source": [
        "list1 = [\"Ramesh\", \"Suresh\", \"Mahesh\", \"Ali\", \"Jacob\", \"Saritha\"]\n",
        "list2 = [\"Ali\", \"Mukesh\", \"Mahesh\", \"Jacob\", \"Sai\", \"Sarita\"]\n",
        "\n",
        "result = []\n",
        "\n",
        "for name in list1:\n",
        "    if name in list2:\n",
        "        result.append(name)\n",
        "\n",
        "print(\"The common names in both lists are:\", result)\n"
      ],
      "metadata": {
        "colab": {
          "base_uri": "https://localhost:8080/"
        },
        "id": "NoEyVK3C0ydE",
        "outputId": "37e7998f-65cc-4b56-abf9-fefee71f3c96"
      },
      "execution_count": null,
      "outputs": [
        {
          "output_type": "stream",
          "name": "stdout",
          "text": [
            "The common names in both lists are: ['Mahesh', 'Ali', 'Jacob']\n"
          ]
        }
      ]
    },
    {
      "cell_type": "markdown",
      "source": [
        "**\"\"\"\n",
        "Q2: While entering data, someone entered a few names as a common string “Ramesh Suresh Mohit”. Please write a program which separates all the names and convert them into a list. Once converted in a list, please write a program which adds their age.\"\"\"**\n"
      ],
      "metadata": {
        "id": "iT5jllXzy6IY"
      }
    },
    {
      "cell_type": "code",
      "source": [
        "names = \"Ramesh Suresh Mohit\"\n",
        "names_list = names.split(\" \")\n",
        "\n",
        "ages = {}\n",
        "for name in names_list:\n",
        "    age = int(input(\"Enter age for \" + name + \": \"))\n",
        "    ages[name] = age\n",
        "\n",
        "print(\"The ages of the individuals are:\", ages)\n"
      ],
      "metadata": {
        "colab": {
          "base_uri": "https://localhost:8080/"
        },
        "id": "jL3U8JY-y8P1",
        "outputId": "de9887d2-ef58-4c57-9b6b-bff7689f02f9"
      },
      "execution_count": null,
      "outputs": [
        {
          "output_type": "stream",
          "name": "stdout",
          "text": [
            "Enter age for Ramesh: 27\n",
            "Enter age for Suresh: 25\n",
            "Enter age for Mohit: 23\n",
            "The ages of the individuals are: {'Ramesh': 27, 'Suresh': 25, 'Mohit': 23}\n"
          ]
        }
      ]
    },
    {
      "cell_type": "markdown",
      "source": [
        "**Please write a program which calculates mean values (no in-built function for mean) of all three tests and print the highest mean value. Addition and other functions are allowed. Please also report who scored the highest mark in python using programming construct**\n",
        "\"\"\"\n",
        "**"
      ],
      "metadata": {
        "id": "vSVBlXMAzHf1"
      }
    },
    {
      "cell_type": "code",
      "source": [
        "students = [\"Sam\", \"Jacy\", \"Tom\", \"Steve\"]\n",
        "\n",
        "python_scores = [25, 26, 29, 28]\n",
        "statistics_scores = [23, 21, 19, 25]\n",
        "sql_scores = [29, 27, 28, 25]\n",
        "\n",
        "student_scores = {}\n",
        "\n",
        "for i, student in enumerate(students):\n",
        "    student_scores[student] = (python_scores[i] + statistics_scores[i] + sql_scores[i]) / 3\n",
        "\n",
        "max_mean_student = max(student_scores, key=student_scores.get)\n",
        "\n",
        "print(\"The student with the highest mean score is:\", max_mean_student)\n",
        "\n",
        "max_python_score = max(python_scores)\n",
        "max_python_student = students[python_scores.index(max_python_score)]\n",
        "\n",
        "print(\"The student with the highest score in Python is:\", max_python_student)\n",
        "\n"
      ],
      "metadata": {
        "colab": {
          "base_uri": "https://localhost:8080/"
        },
        "id": "SFsuoTsazP90",
        "outputId": "a0aac3d8-244a-4fb5-84a2-2c11bda8de4f"
      },
      "execution_count": null,
      "outputs": [
        {
          "output_type": "stream",
          "name": "stdout",
          "text": [
            "The student with the highest mean score is: Steve\n",
            "The student with the highest score in Python is: Tom\n"
          ]
        }
      ]
    },
    {
      "cell_type": "markdown",
      "source": [
        "**\"\"\"You are working in a medical store. A patient came to your medical store and asked to buy 2 strips of paracetamol, 3 strips of azithromycin and 5 strips of Vitamin C. One strip of paracetamol costs Rs 35, one strip of azithromycin costs Rs 49 and one strip of vitamin c costs Rs. 33. Patient gave you Rs 2000. Please tell us what is the total cost of each medicine, total cost of all medicine and how much money you refunded to the patient? \"\"\"**"
      ],
      "metadata": {
        "id": "1J1JwiDpzbFu"
      }
    },
    {
      "cell_type": "code",
      "source": [
        "# Medicine costs\n",
        "cost_paracetamol = 35  # Cost of one strip of Paracetamol\n",
        "cost_azithromycin = 49  # Cost of one strip of Azithromycin\n",
        "cost_vitamin_c = 33    # Cost of one strip of Vitamin C\n",
        "\n",
        "# Quantity of each medicine\n",
        "quantity_paracetamol = 2\n",
        "quantity_azithromycin = 3\n",
        "quantity_vitamin_c = 5\n",
        "\n",
        "# Calculate total cost of each medicine\n",
        "total_cost_paracetamol = cost_paracetamol * quantity_paracetamol\n",
        "total_cost_azithromycin = cost_azithromycin * quantity_azithromycin\n",
        "total_cost_vitamin_c = cost_vitamin_c * quantity_vitamin_c\n",
        "\n",
        "# Calculate total cost of all medicines\n",
        "total_cost_all_medicines = (\n",
        "    total_cost_paracetamol + total_cost_azithromycin + total_cost_vitamin_c\n",
        ")\n",
        "\n",
        "# Given amount by the patient\n",
        "amount_given = 2000\n",
        "\n",
        "# Calculate amount refunded to the patient\n",
        "amount_refunded = amount_given - total_cost_all_medicines\n",
        "\n",
        "# Print the results\n",
        "print(\"Total cost of Paracetamol:\", total_cost_paracetamol)\n",
        "print(\"Total cost of Azithromycin:\", total_cost_azithromycin)\n",
        "print(\"Total cost of Vitamin C:\", total_cost_vitamin_c)\n",
        "print(\"Total cost of all medicines:\", total_cost_all_medicines)\n",
        "print(\"Amount refunded to the patient:\", amount_refunded)\n",
        "\n"
      ],
      "metadata": {
        "colab": {
          "base_uri": "https://localhost:8080/"
        },
        "id": "DbXnxmoNzgan",
        "outputId": "3e8301b5-8a8d-4ca1-cc24-6ee67d39315f"
      },
      "execution_count": null,
      "outputs": [
        {
          "output_type": "stream",
          "name": "stdout",
          "text": [
            "Total cost of Paracetamol: 70\n",
            "Total cost of Azithromycin: 147\n",
            "Total cost of Vitamin C: 165\n",
            "Total cost of all medicines: 382\n",
            "Amount refunded to the patient: 1618\n"
          ]
        }
      ]
    },
    {
      "cell_type": "markdown",
      "source": [
        "**\"\"\"Accept a sentence as input and find the number of vowels in it. Assume that the sentence has no punctuation marks. For example: I am learning python contains 6 vowels. This function should be applicable for all other different sentences.\"\"\"**"
      ],
      "metadata": {
        "id": "6ilr--gY0B-_"
      }
    },
    {
      "cell_type": "code",
      "source": [
        "def count_vowels(sentence):\n",
        "    vowels = \"aeiouAEIOU\"\n",
        "    count = 0\n",
        "    for char in sentence:\n",
        "        if char in vowels:\n",
        "            count += 1\n",
        "    return count\n",
        "sentence = \"I am learning python\"\n",
        "print(\"The number of vowels in the sentence is:\", count_vowels(sentence))\n"
      ],
      "metadata": {
        "colab": {
          "base_uri": "https://localhost:8080/"
        },
        "id": "GZS7VKUK0OiL",
        "outputId": "f6ee2e19-dfb6-4990-aff2-576e903970a5"
      },
      "execution_count": null,
      "outputs": [
        {
          "output_type": "stream",
          "name": "stdout",
          "text": [
            "The number of vowels in the sentence is: 6\n"
          ]
        }
      ]
    },
    {
      "cell_type": "markdown",
      "source": [
        "**\"\"\"You have been appointed by the election commission to create a website. Your first task is to work on a program which tells candidates if they are eligible for voting or not. If they are eligible your output should be ‘Congrats! You are eligible’, otherwise it should tell that you have to return after X number of years. Eligibility criteria for voting is 18 years\"\"\"**"
      ],
      "metadata": {
        "id": "tV7EQYtT0TvT"
      }
    },
    {
      "cell_type": "code",
      "source": [
        "\n",
        "import datetime\n",
        "\n",
        "def check_eligibility(birth_year):\n",
        "    current_year = datetime.datetime.now().year\n",
        "    age = current_year - birth_year\n",
        "    if age >= 18:\n",
        "        return \"Congrats! You are eligible\"\n",
        "    else:\n",
        "        return \"Sorry, you have to wait for \" + str(18 - age) + \" more years to be eligible for voting.\"\n",
        "\n",
        "birth_year = 1998\n",
        "print(check_eligibility(birth_year))\n"
      ],
      "metadata": {
        "colab": {
          "base_uri": "https://localhost:8080/"
        },
        "id": "2-9mEbst0SAz",
        "outputId": "885a1f43-98fc-4acf-d088-55e5fe3a3709"
      },
      "execution_count": null,
      "outputs": [
        {
          "output_type": "stream",
          "name": "stdout",
          "text": [
            "Congrats! You are eligible\n"
          ]
        }
      ]
    },
    {
      "cell_type": "code",
      "source": [],
      "metadata": {
        "id": "4bfUImWl0dZU"
      },
      "execution_count": null,
      "outputs": []
    }
  ]
}